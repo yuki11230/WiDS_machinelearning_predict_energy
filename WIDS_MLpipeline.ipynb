{
 "cells": [
  {
   "cell_type": "code",
   "execution_count": 1,
   "metadata": {},
   "outputs": [],
   "source": [
    "import pandas as pd\n",
    "import numpy as np\n",
    "from matplotlib import pyplot as plt\n",
    "%matplotlib inline\n",
    "import seaborn as sns"
   ]
  },
  {
   "cell_type": "code",
   "execution_count": 2,
   "metadata": {},
   "outputs": [],
   "source": [
    "#training data\n",
    "train_data = pd.read_csv('train.csv')\n",
    "df_train=train_data.copy()"
   ]
  },
  {
   "cell_type": "code",
   "execution_count": 3,
   "metadata": {},
   "outputs": [],
   "source": [
    "#test data\n",
    "test_data = pd.read_csv('test.csv')\n",
    "df_test=test_data.copy()\n"
   ]
  },
  {
   "cell_type": "markdown",
   "metadata": {},
   "source": [
    "# data preprocessing"
   ]
  },
  {
   "cell_type": "code",
   "execution_count": 4,
   "metadata": {},
   "outputs": [],
   "source": [
    "# data preprocessing\n",
    "# numerical data: impute using median\n",
    "# numerical to cat: 'year_built','Year_Factor' \n",
    "# combined cat:'year_built'--'old','new';\n",
    "#             'facility_type'.value_counts()<1000--'other'\n"
   ]
  },
  {
   "cell_type": "code",
   "execution_count": 5,
   "metadata": {},
   "outputs": [],
   "source": [
    "# transform some numerical varibles to cat \n",
    "# numerical to cat: 'year_built','Year_Factor' \n",
    "# for missing 'year_built', we will use median value\n",
    "df_train['year_built'].fillna(df_train['year_built'].median(),inplace=True)\n",
    "df_test['year_built'].fillna(df_train['year_built'].median(),inplace=True)"
   ]
  },
  {
   "cell_type": "code",
   "execution_count": 6,
   "metadata": {},
   "outputs": [
    {
     "name": "stdout",
     "output_type": "stream",
     "text": [
      "Index(['Year_Factor', 'State_Factor', 'building_class', 'facility_type',\n",
      "       'year_built'],\n",
      "      dtype='object')\n"
     ]
    }
   ],
   "source": [
    "# transform some of the numerical to cat values\n",
    "df_train['Year_Factor']=df_train['Year_Factor'].astype('object',copy=False)\n",
    "df_train['year_built']=df_train['year_built'].astype('object',copy=False)\n",
    "df_test['Year_Factor']=df_test['Year_Factor'].astype('object',copy=False)\n",
    "df_test['year_built']=df_test['year_built'].astype('object',copy=False)\n",
    "cat_attribs=df_train.select_dtypes(include=['object']).columns\n",
    "print(cat_attribs)"
   ]
  },
  {
   "cell_type": "code",
   "execution_count": 7,
   "metadata": {},
   "outputs": [],
   "source": [
    "# combine cat varibles 'year_built' and 'facility_type'\n",
    "df_train['year_built']=df_train['year_built'].apply(lambda x: 'old' if x<=1951 else 'new')\n",
    "\n",
    "df_test['year_built']=df_test['year_built'].apply(lambda x: 'old' if x<=1951 else 'new')\n"
   ]
  },
  {
   "cell_type": "code",
   "execution_count": 8,
   "metadata": {},
   "outputs": [
    {
     "name": "stdout",
     "output_type": "stream",
     "text": [
      "Index(['Multifamily_Uncategorized', 'Office_Uncategorized',\n",
      "       'Education_Other_classroom', 'Lodging_Hotel', '2to4_Unit_Building',\n",
      "       'Commercial_Other', '5plus_Unit_Building', 'Warehouse_Nonrefrigerated',\n",
      "       'Retail_Uncategorized', 'Education_College_or_university'],\n",
      "      dtype='object')\n"
     ]
    }
   ],
   "source": [
    "cat_type=df_train['facility_type'].value_counts()[df_train['facility_type'].value_counts()>= 1000].index\n",
    "\n",
    "df_train.loc[df_train['facility_type'].isin((df_train['facility_type'].value_counts()\n",
    "                            [df_train['facility_type'].value_counts() < 1000]).index), 'facility_type'] = 'other'\n",
    "print(cat_type)   "
   ]
  },
  {
   "cell_type": "code",
   "execution_count": 9,
   "metadata": {},
   "outputs": [
    {
     "name": "stdout",
     "output_type": "stream",
     "text": [
      "['2to4_Unit_Building', '5plus_Unit_Building', 'Commercial_Other', 'Education_College_or_university', 'Education_Other_classroom', 'Lodging_Hotel', 'Multifamily_Uncategorized', 'Office_Uncategorized', 'Retail_Uncategorized', 'Warehouse_Nonrefrigerated', 'other']\n",
      "['2to4_Unit_Building', '5plus_Unit_Building', 'Commercial_Other', 'Education_College_or_university', 'Education_Other_classroom', 'Lodging_Hotel', 'Multifamily_Uncategorized', 'Office_Uncategorized', 'Retail_Uncategorized', 'Warehouse_Nonrefrigerated', 'other']\n",
      "True\n"
     ]
    }
   ],
   "source": [
    "# combine the sparse cat for test data as well\n",
    "df_test.loc[~df_test['facility_type'].isin(cat_type), 'facility_type'] = 'other'\n",
    "print(sorted(df_train['facility_type'].unique()))\n",
    "print(sorted(df_test['facility_type'].unique()))\n",
    "print(sorted(df_train['facility_type'].unique())==sorted(df_test['facility_type'].unique()))"
   ]
  },
  {
   "cell_type": "code",
   "execution_count": 10,
   "metadata": {},
   "outputs": [
    {
     "data": {
      "text/plain": [
       "Index(['Year_Factor', 'State_Factor', 'building_class', 'facility_type',\n",
       "       'floor_area', 'year_built', 'energy_star_rating', 'ELEVATION',\n",
       "       'january_min_temp', 'january_avg_temp', 'january_max_temp',\n",
       "       'february_min_temp', 'february_avg_temp', 'february_max_temp',\n",
       "       'march_min_temp', 'march_avg_temp', 'march_max_temp', 'april_min_temp',\n",
       "       'april_avg_temp', 'april_max_temp', 'may_min_temp', 'may_avg_temp',\n",
       "       'may_max_temp', 'june_min_temp', 'june_avg_temp', 'june_max_temp',\n",
       "       'july_min_temp', 'july_avg_temp', 'july_max_temp', 'august_min_temp',\n",
       "       'august_avg_temp', 'august_max_temp', 'september_min_temp',\n",
       "       'september_avg_temp', 'september_max_temp', 'october_min_temp',\n",
       "       'october_avg_temp', 'october_max_temp', 'november_min_temp',\n",
       "       'november_avg_temp', 'november_max_temp', 'december_min_temp',\n",
       "       'december_avg_temp', 'december_max_temp', 'cooling_degree_days',\n",
       "       'heating_degree_days', 'precipitation_inches', 'snowfall_inches',\n",
       "       'snowdepth_inches', 'avg_temp', 'days_below_30F', 'days_below_20F',\n",
       "       'days_below_10F', 'days_below_0F', 'days_above_80F', 'days_above_90F',\n",
       "       'days_above_100F', 'days_above_110F', 'direction_max_wind_speed',\n",
       "       'direction_peak_wind_speed', 'max_wind_speed', 'days_with_fog',\n",
       "       'site_eui', 'id'],\n",
       "      dtype='object')"
      ]
     },
     "execution_count": 10,
     "metadata": {},
     "output_type": "execute_result"
    }
   ],
   "source": [
    "df_train.columns"
   ]
  },
  {
   "cell_type": "code",
   "execution_count": null,
   "metadata": {},
   "outputs": [],
   "source": []
  },
  {
   "cell_type": "markdown",
   "metadata": {},
   "source": [
    "# pipelines"
   ]
  },
  {
   "cell_type": "code",
   "execution_count": 11,
   "metadata": {},
   "outputs": [],
   "source": [
    "from sklearn.compose import ColumnTransformer\n",
    "from sklearn.pipeline import Pipeline\n",
    "from sklearn.impute import SimpleImputer\n",
    "from sklearn.preprocessing import OneHotEncoder\n",
    "from sklearn.preprocessing import StandardScaler"
   ]
  },
  {
   "cell_type": "code",
   "execution_count": 12,
   "metadata": {},
   "outputs": [],
   "source": [
    "#training data\n",
    "y_train=df_train.site_eui\n",
    "# drop useless variables such as 'id'\n",
    "X_train=df_train.drop(['site_eui','id'],axis=1)"
   ]
  },
  {
   "cell_type": "code",
   "execution_count": 13,
   "metadata": {},
   "outputs": [
    {
     "name": "stdout",
     "output_type": "stream",
     "text": [
      "[ True  True  True  True  True  True  True  True  True  True  True  True\n",
      "  True  True  True  True  True  True  True  True  True  True  True  True\n",
      "  True  True  True  True  True  True  True  True  True  True  True  True\n",
      "  True  True  True  True  True  True  True  True  True  True  True  True\n",
      "  True  True  True  True  True  True  True  True  True  True  True  True\n",
      "  True  True]\n"
     ]
    }
   ],
   "source": [
    "# test data\n",
    "X_test=df_test.drop('id',axis=1)\n",
    "print(X_train.columns==X_test.columns)\n"
   ]
  },
  {
   "cell_type": "code",
   "execution_count": 14,
   "metadata": {},
   "outputs": [
    {
     "name": "stdout",
     "output_type": "stream",
     "text": [
      "Index(['Year_Factor', 'State_Factor', 'building_class', 'facility_type',\n",
      "       'year_built'],\n",
      "      dtype='object')\n",
      "Index(['floor_area', 'energy_star_rating', 'ELEVATION', 'january_min_temp',\n",
      "       'january_avg_temp', 'january_max_temp', 'february_min_temp',\n",
      "       'february_avg_temp', 'february_max_temp', 'march_min_temp',\n",
      "       'march_avg_temp', 'march_max_temp', 'april_min_temp', 'april_avg_temp',\n",
      "       'april_max_temp', 'may_min_temp', 'may_avg_temp', 'may_max_temp',\n",
      "       'june_min_temp', 'june_avg_temp', 'june_max_temp', 'july_min_temp',\n",
      "       'july_avg_temp', 'july_max_temp', 'august_min_temp', 'august_avg_temp',\n",
      "       'august_max_temp', 'september_min_temp', 'september_avg_temp',\n",
      "       'september_max_temp', 'october_min_temp', 'october_avg_temp',\n",
      "       'october_max_temp', 'november_min_temp', 'november_avg_temp',\n",
      "       'november_max_temp', 'december_min_temp', 'december_avg_temp',\n",
      "       'december_max_temp', 'cooling_degree_days', 'heating_degree_days',\n",
      "       'precipitation_inches', 'snowfall_inches', 'snowdepth_inches',\n",
      "       'avg_temp', 'days_below_30F', 'days_below_20F', 'days_below_10F',\n",
      "       'days_below_0F', 'days_above_80F', 'days_above_90F', 'days_above_100F',\n",
      "       'days_above_110F', 'direction_max_wind_speed',\n",
      "       'direction_peak_wind_speed', 'max_wind_speed', 'days_with_fog'],\n",
      "      dtype='object')\n"
     ]
    }
   ],
   "source": [
    "cat_attr=X_train.select_dtypes(include=['object']).columns\n",
    "num_attr=X_train.select_dtypes(exclude=['object']).columns\n",
    "print(cat_attr)\n",
    "print(num_attr)"
   ]
  },
  {
   "cell_type": "code",
   "execution_count": 15,
   "metadata": {},
   "outputs": [],
   "source": [
    "# preprocessing for numerical data\n",
    "num_transformer=Pipeline(steps=[\n",
    "    ('imputer', SimpleImputer(strategy='median')),\n",
    "    ('std_scaler', StandardScaler())\n",
    "])\n",
    "\n",
    "# Preprocessing for categorical data\n",
    "cat_transformer = Pipeline(steps=[\n",
    "    ('onehot', OneHotEncoder(handle_unknown='ignore'))\n",
    "])\n",
    "\n",
    "# buldle preprocessing for numerical and cat data\n",
    "preprocessor= ColumnTransformer(\n",
    "    transformers=[\n",
    "        ('num',num_transformer,num_attr),\n",
    "        ('cat',cat_transformer,cat_attr)\n",
    "    ]\n",
    ")"
   ]
  },
  {
   "cell_type": "code",
   "execution_count": 16,
   "metadata": {},
   "outputs": [],
   "source": [
    "# define the model\n",
    "from sklearn.ensemble import RandomForestRegressor\n",
    "rf_reg=RandomForestRegressor(n_estimators=20, max_leaf_nodes=10,random_state=0)"
   ]
  },
  {
   "cell_type": "code",
   "execution_count": 17,
   "metadata": {},
   "outputs": [],
   "source": [
    "from sklearn.metrics import mean_squared_error\n",
    "\n",
    "# Bundle preprocessing and modeling code in a pipeline\n",
    "my_pipeline = Pipeline(steps=[('preprocessor', preprocessor),\n",
    "                             ('model',rf_reg)\n",
    "                             ])\n",
    "\n",
    "# Preprocessing of training data, fit model \n",
    "my_pipeline.fit(X_train, y_train)\n",
    "\n",
    "# Preprocessing of validation data, get predictions\n",
    "prediction=my_pipeline.predict(X_test)\n"
   ]
  },
  {
   "cell_type": "code",
   "execution_count": 19,
   "metadata": {},
   "outputs": [
    {
     "data": {
      "text/plain": [
       "array([ 79.3698976 ,  64.77025127, 260.68416607,  79.3698976 ,\n",
       "        79.3698976 , 102.60982519, 102.60982519,  66.87224819,\n",
       "        64.77025127, 121.47882516,  64.77025127,  64.77025127,\n",
       "        80.56566566,  62.01514428,  61.04769274,  78.22987456,\n",
       "        80.56566566,  62.01514428, 147.44849157, 147.44849157,\n",
       "        68.76660045, 144.28511602, 147.44849157, 147.44849157,\n",
       "       147.44849157, 147.44849157, 147.44849157,  44.9821779 ,\n",
       "        63.24115876, 147.44849157,  68.76660045, 147.44849157,\n",
       "       147.44849157, 150.34815907,  63.24115876, 147.44849157,\n",
       "       102.20119711, 147.44849157,  74.54586813, 147.44849157,\n",
       "        98.78185417, 124.8040889 , 109.35925424,  63.24115876,\n",
       "       109.53481806, 109.35925424, 109.35925424, 109.35925424,\n",
       "       109.35925424,  79.83944858])"
      ]
     },
     "execution_count": 19,
     "metadata": {},
     "output_type": "execute_result"
    }
   ],
   "source": [
    "prediction[0:50]"
   ]
  },
  {
   "cell_type": "code",
   "execution_count": 24,
   "metadata": {},
   "outputs": [],
   "source": [
    "df_results = pd.DataFrame(columns = ['id', 'site_eui'])\n",
    "df_results.id=df_test.id\n",
    "df_results.site_eui=prediction\n",
    "df_results.head()\n",
    "df_results.to_csv('df_prediction.csv', index=None,sep=',')\n",
    "# the RMSE is 55.504 after I submitted the prediction to Kaggle competition "
   ]
  },
  {
   "cell_type": "code",
   "execution_count": null,
   "metadata": {},
   "outputs": [],
   "source": []
  },
  {
   "cell_type": "code",
   "execution_count": null,
   "metadata": {},
   "outputs": [],
   "source": []
  },
  {
   "cell_type": "code",
   "execution_count": null,
   "metadata": {},
   "outputs": [],
   "source": []
  }
 ],
 "metadata": {
  "kernelspec": {
   "display_name": "Python 3",
   "language": "python",
   "name": "python3"
  },
  "language_info": {
   "codemirror_mode": {
    "name": "ipython",
    "version": 3
   },
   "file_extension": ".py",
   "mimetype": "text/x-python",
   "name": "python",
   "nbconvert_exporter": "python",
   "pygments_lexer": "ipython3",
   "version": "3.8.5"
  }
 },
 "nbformat": 4,
 "nbformat_minor": 4
}
