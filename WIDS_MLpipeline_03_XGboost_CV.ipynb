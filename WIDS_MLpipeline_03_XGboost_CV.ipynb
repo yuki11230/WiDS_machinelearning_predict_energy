{
 "cells": [
  {
   "cell_type": "code",
   "execution_count": 1,
   "metadata": {},
   "outputs": [],
   "source": [
    "import pandas as pd\n",
    "import numpy as np\n",
    "from matplotlib import pyplot as plt\n",
    "%matplotlib inline\n",
    "import seaborn as sns"
   ]
  },
  {
   "cell_type": "code",
   "execution_count": 2,
   "metadata": {},
   "outputs": [],
   "source": [
    "#training data\n",
    "train_data = pd.read_csv('train.csv')\n",
    "df_train=train_data.copy()"
   ]
  },
  {
   "cell_type": "code",
   "execution_count": 3,
   "metadata": {},
   "outputs": [],
   "source": [
    "#test data\n",
    "test_data = pd.read_csv('test.csv')\n",
    "df_test=test_data.copy()\n"
   ]
  },
  {
   "cell_type": "markdown",
   "metadata": {},
   "source": [
    "# data preprocessing"
   ]
  },
  {
   "cell_type": "code",
   "execution_count": 4,
   "metadata": {},
   "outputs": [],
   "source": [
    "# data preprocessing\n",
    "# numerical data: impute using median\n",
    "# numerical to cat: 'year_built','Year_Factor' \n",
    "# combined cat:'year_built'--'old','new';\n",
    "#             'facility_type'.value_counts()<1000--'other'\n"
   ]
  },
  {
   "cell_type": "code",
   "execution_count": 5,
   "metadata": {},
   "outputs": [],
   "source": [
    "# transform some numerical varibles to cat \n",
    "# numerical to cat: 'year_built','Year_Factor' \n",
    "# for missing 'year_built', we will use median value\n",
    "df_train['year_built'].fillna(df_train['year_built'].median(),inplace=True)\n",
    "df_test['year_built'].fillna(df_train['year_built'].median(),inplace=True)"
   ]
  },
  {
   "cell_type": "code",
   "execution_count": 6,
   "metadata": {},
   "outputs": [
    {
     "name": "stdout",
     "output_type": "stream",
     "text": [
      "Index(['Year_Factor', 'State_Factor', 'building_class', 'facility_type',\n",
      "       'year_built'],\n",
      "      dtype='object')\n"
     ]
    }
   ],
   "source": [
    "# transform some of the numerical to cat values\n",
    "df_train['Year_Factor']=df_train['Year_Factor'].astype('object',copy=False)\n",
    "df_train['year_built']=df_train['year_built'].astype('object',copy=False)\n",
    "df_test['Year_Factor']=df_test['Year_Factor'].astype('object',copy=False)\n",
    "df_test['year_built']=df_test['year_built'].astype('object',copy=False)\n",
    "cat_attribs=df_train.select_dtypes(include=['object']).columns\n",
    "print(cat_attribs)"
   ]
  },
  {
   "cell_type": "code",
   "execution_count": 7,
   "metadata": {},
   "outputs": [],
   "source": [
    "# combine cat varibles 'year_built' and 'facility_type'\n",
    "df_train['year_built']=df_train['year_built'].apply(lambda x: 'old' if x<=1951 else 'new')\n",
    "\n",
    "df_test['year_built']=df_test['year_built'].apply(lambda x: 'old' if x<=1951 else 'new')\n"
   ]
  },
  {
   "cell_type": "code",
   "execution_count": 8,
   "metadata": {},
   "outputs": [
    {
     "name": "stdout",
     "output_type": "stream",
     "text": [
      "Index(['Multifamily_Uncategorized', 'Office_Uncategorized',\n",
      "       'Education_Other_classroom', 'Lodging_Hotel', '2to4_Unit_Building',\n",
      "       'Commercial_Other', '5plus_Unit_Building', 'Warehouse_Nonrefrigerated',\n",
      "       'Retail_Uncategorized', 'Education_College_or_university',\n",
      "       'Nursing_Home', 'Education_Uncategorized',\n",
      "       'Mixed_Use_Commercial_and_Residential',\n",
      "       'Lodging_Dormitory_or_fraternity_sorority',\n",
      "       'Warehouse_Distribution_or_Shipping_center', 'Warehouse_Selfstorage',\n",
      "       'Grocery_store_or_food_market', 'Office_Medical_non_diagnostic',\n",
      "       'Health_Care_Inpatient', 'Religious_worship', 'Industrial',\n",
      "       'Warehouse_Uncategorized', 'Mixed_Use_Predominantly_Commercial',\n",
      "       'Parking_Garage', 'Office_Bank_or_other_financial',\n",
      "       'Public_Assembly_Library', 'Public_Safety_Fire_or_police_station',\n",
      "       'Public_Assembly_Other', 'Service_Vehicle_service_repair_shop',\n",
      "       'Retail_Enclosed_mall', 'Warehouse_Refrigerated',\n",
      "       'Retail_Strip_shopping_mall', 'Public_Assembly_Entertainment_culture',\n",
      "       'Education_Preschool_or_daycare', 'Laboratory'],\n",
      "      dtype='object')\n"
     ]
    }
   ],
   "source": [
    "cat_type=df_train['facility_type'].value_counts()[df_train['facility_type'].value_counts()>= 100].index\n",
    "\n",
    "df_train.loc[df_train['facility_type'].isin((df_train['facility_type'].value_counts()\n",
    "                            [df_train['facility_type'].value_counts() < 100]).index), 'facility_type'] = 'other'\n",
    "print(cat_type)   "
   ]
  },
  {
   "cell_type": "code",
   "execution_count": 9,
   "metadata": {},
   "outputs": [
    {
     "name": "stdout",
     "output_type": "stream",
     "text": [
      "['2to4_Unit_Building', '5plus_Unit_Building', 'Commercial_Other', 'Education_College_or_university', 'Education_Other_classroom', 'Education_Preschool_or_daycare', 'Education_Uncategorized', 'Grocery_store_or_food_market', 'Health_Care_Inpatient', 'Industrial', 'Laboratory', 'Lodging_Dormitory_or_fraternity_sorority', 'Lodging_Hotel', 'Mixed_Use_Commercial_and_Residential', 'Mixed_Use_Predominantly_Commercial', 'Multifamily_Uncategorized', 'Nursing_Home', 'Office_Bank_or_other_financial', 'Office_Medical_non_diagnostic', 'Office_Uncategorized', 'Parking_Garage', 'Public_Assembly_Entertainment_culture', 'Public_Assembly_Library', 'Public_Assembly_Other', 'Public_Safety_Fire_or_police_station', 'Religious_worship', 'Retail_Enclosed_mall', 'Retail_Strip_shopping_mall', 'Retail_Uncategorized', 'Service_Vehicle_service_repair_shop', 'Warehouse_Distribution_or_Shipping_center', 'Warehouse_Nonrefrigerated', 'Warehouse_Refrigerated', 'Warehouse_Selfstorage', 'Warehouse_Uncategorized', 'other']\n",
      "['2to4_Unit_Building', '5plus_Unit_Building', 'Commercial_Other', 'Education_College_or_university', 'Education_Other_classroom', 'Education_Preschool_or_daycare', 'Education_Uncategorized', 'Grocery_store_or_food_market', 'Health_Care_Inpatient', 'Industrial', 'Laboratory', 'Lodging_Dormitory_or_fraternity_sorority', 'Lodging_Hotel', 'Mixed_Use_Commercial_and_Residential', 'Mixed_Use_Predominantly_Commercial', 'Multifamily_Uncategorized', 'Nursing_Home', 'Office_Bank_or_other_financial', 'Office_Medical_non_diagnostic', 'Office_Uncategorized', 'Parking_Garage', 'Public_Assembly_Entertainment_culture', 'Public_Assembly_Library', 'Public_Assembly_Other', 'Public_Safety_Fire_or_police_station', 'Religious_worship', 'Retail_Enclosed_mall', 'Retail_Strip_shopping_mall', 'Retail_Uncategorized', 'Service_Vehicle_service_repair_shop', 'Warehouse_Distribution_or_Shipping_center', 'Warehouse_Nonrefrigerated', 'Warehouse_Refrigerated', 'Warehouse_Selfstorage', 'Warehouse_Uncategorized', 'other']\n",
      "True\n"
     ]
    }
   ],
   "source": [
    "# combine the sparse cat for test data as well\n",
    "df_test.loc[~df_test['facility_type'].isin(cat_type), 'facility_type'] = 'other'\n",
    "print(sorted(df_train['facility_type'].unique()))\n",
    "print(sorted(df_test['facility_type'].unique()))\n",
    "print(sorted(df_train['facility_type'].unique())==sorted(df_test['facility_type'].unique()))"
   ]
  },
  {
   "cell_type": "code",
   "execution_count": 10,
   "metadata": {},
   "outputs": [
    {
     "data": {
      "text/plain": [
       "0     11.0\n",
       "1     45.0\n",
       "2     97.0\n",
       "3     46.0\n",
       "4    100.0\n",
       "5      NaN\n",
       "6     56.0\n",
       "7     99.0\n",
       "8     98.0\n",
       "9     83.0\n",
       "Name: energy_star_rating, dtype: float64"
      ]
     },
     "execution_count": 10,
     "metadata": {},
     "output_type": "execute_result"
    }
   ],
   "source": [
    "# compute energy_star ana values with median of each facility type\n",
    "df_train.energy_star_rating.isnull().value_counts()\n",
    "df_train.energy_star_rating.head(10)"
   ]
  },
  {
   "cell_type": "code",
   "execution_count": 11,
   "metadata": {},
   "outputs": [
    {
     "data": {
      "text/plain": [
       "facility_type\n",
       "2to4_Unit_Building                           76.0\n",
       "5plus_Unit_Building                          81.0\n",
       "Commercial_Other                             76.5\n",
       "Education_College_or_university              52.0\n",
       "Education_Other_classroom                    68.0\n",
       "Education_Preschool_or_daycare                NaN\n",
       "Education_Uncategorized                       7.0\n",
       "Grocery_store_or_food_market                 54.0\n",
       "Health_Care_Inpatient                        57.0\n",
       "Industrial                                   87.0\n",
       "Laboratory                                    1.0\n",
       "Lodging_Dormitory_or_fraternity_sorority     64.0\n",
       "Lodging_Hotel                                47.0\n",
       "Mixed_Use_Commercial_and_Residential         74.0\n",
       "Mixed_Use_Predominantly_Commercial           79.0\n",
       "Multifamily_Uncategorized                    60.0\n",
       "Nursing_Home                                 36.0\n",
       "Office_Bank_or_other_financial               75.5\n",
       "Office_Medical_non_diagnostic                55.0\n",
       "Office_Uncategorized                         78.0\n",
       "Parking_Garage                               72.0\n",
       "Public_Assembly_Entertainment_culture         NaN\n",
       "Public_Assembly_Library                       NaN\n",
       "Public_Assembly_Other                         5.0\n",
       "Public_Safety_Fire_or_police_station          NaN\n",
       "Religious_worship                            71.0\n",
       "Retail_Enclosed_mall                         77.0\n",
       "Retail_Strip_shopping_mall                   64.0\n",
       "Retail_Uncategorized                         68.0\n",
       "Service_Vehicle_service_repair_shop          25.0\n",
       "Warehouse_Distribution_or_Shipping_center    60.0\n",
       "Warehouse_Nonrefrigerated                    74.0\n",
       "Warehouse_Refrigerated                       48.0\n",
       "Warehouse_Selfstorage                        83.0\n",
       "Warehouse_Uncategorized                      57.0\n",
       "other                                        53.5\n",
       "Name: energy_star_rating, dtype: float64"
      ]
     },
     "execution_count": 11,
     "metadata": {},
     "output_type": "execute_result"
    }
   ],
   "source": [
    "df_train.groupby(\"facility_type\")[\"energy_star_rating\"].median()"
   ]
  },
  {
   "cell_type": "code",
   "execution_count": 12,
   "metadata": {},
   "outputs": [
    {
     "data": {
      "text/plain": [
       "0     11.0\n",
       "1     45.0\n",
       "2     97.0\n",
       "3     46.0\n",
       "4    100.0\n",
       "5     83.0\n",
       "6     56.0\n",
       "7     99.0\n",
       "8     98.0\n",
       "9     83.0\n",
       "Name: energy_star_rating, dtype: float64"
      ]
     },
     "execution_count": 12,
     "metadata": {},
     "output_type": "execute_result"
    }
   ],
   "source": [
    "# fill the training data 'enery_star' with the median value of each 'facility-type'\n",
    "df_train[\"energy_star_rating\"] = df_train.groupby(\"facility_type\")[\"energy_star_rating\"].transform(lambda x: x.fillna(x.median()))\n",
    "#df_train.energy_star_rating.isnull().value_counts()\n",
    "df_train.energy_star_rating.head(10)"
   ]
  },
  {
   "cell_type": "code",
   "execution_count": 13,
   "metadata": {},
   "outputs": [
    {
     "data": {
      "text/plain": [
       "10    44.0\n",
       "11    60.0\n",
       "12     NaN\n",
       "13    82.0\n",
       "14    89.0\n",
       "Name: energy_star_rating, dtype: float64"
      ]
     },
     "execution_count": 13,
     "metadata": {},
     "output_type": "execute_result"
    }
   ],
   "source": [
    "df_test.energy_star_rating[10:15]"
   ]
  },
  {
   "cell_type": "code",
   "execution_count": 14,
   "metadata": {},
   "outputs": [
    {
     "data": {
      "text/plain": [
       "Index(['Year_Factor', 'State_Factor', 'building_class', 'facility_type',\n",
       "       'floor_area', 'year_built', 'energy_star_rating', 'ELEVATION',\n",
       "       'january_min_temp', 'january_avg_temp', 'january_max_temp',\n",
       "       'february_min_temp', 'february_avg_temp', 'february_max_temp',\n",
       "       'march_min_temp', 'march_avg_temp', 'march_max_temp', 'april_min_temp',\n",
       "       'april_avg_temp', 'april_max_temp', 'may_min_temp', 'may_avg_temp',\n",
       "       'may_max_temp', 'june_min_temp', 'june_avg_temp', 'june_max_temp',\n",
       "       'july_min_temp', 'july_avg_temp', 'july_max_temp', 'august_min_temp',\n",
       "       'august_avg_temp', 'august_max_temp', 'september_min_temp',\n",
       "       'september_avg_temp', 'september_max_temp', 'october_min_temp',\n",
       "       'october_avg_temp', 'october_max_temp', 'november_min_temp',\n",
       "       'november_avg_temp', 'november_max_temp', 'december_min_temp',\n",
       "       'december_avg_temp', 'december_max_temp', 'cooling_degree_days',\n",
       "       'heating_degree_days', 'precipitation_inches', 'snowfall_inches',\n",
       "       'snowdepth_inches', 'avg_temp', 'days_below_30F', 'days_below_20F',\n",
       "       'days_below_10F', 'days_below_0F', 'days_above_80F', 'days_above_90F',\n",
       "       'days_above_100F', 'days_above_110F', 'direction_max_wind_speed',\n",
       "       'direction_peak_wind_speed', 'max_wind_speed', 'days_with_fog',\n",
       "       'site_eui', 'id'],\n",
       "      dtype='object')"
      ]
     },
     "execution_count": 14,
     "metadata": {},
     "output_type": "execute_result"
    }
   ],
   "source": [
    "df_train.columns"
   ]
  },
  {
   "cell_type": "markdown",
   "metadata": {},
   "source": [
    "# pipelines"
   ]
  },
  {
   "cell_type": "code",
   "execution_count": 15,
   "metadata": {},
   "outputs": [],
   "source": [
    "from sklearn.compose import ColumnTransformer\n",
    "from sklearn.pipeline import Pipeline\n",
    "from sklearn.impute import SimpleImputer\n",
    "#from sklearn.impute import KNNImputer\n",
    "from sklearn.preprocessing import OneHotEncoder\n",
    "#from sklearn.preprocessing import StandardScaler\n",
    "from sklearn.preprocessing import RobustScaler\n",
    "from sklearn.metrics import mean_squared_error"
   ]
  },
  {
   "cell_type": "code",
   "execution_count": 16,
   "metadata": {},
   "outputs": [],
   "source": [
    "#training data\n",
    "y_train=df_train.site_eui\n",
    "# drop useless variables such as 'id'\n",
    "X_train=df_train.drop(['site_eui','id'],axis=1)"
   ]
  },
  {
   "cell_type": "code",
   "execution_count": 17,
   "metadata": {},
   "outputs": [
    {
     "name": "stdout",
     "output_type": "stream",
     "text": [
      "[ True  True  True  True  True  True  True  True  True  True  True  True\n",
      "  True  True  True  True  True  True  True  True  True  True  True  True\n",
      "  True  True  True  True  True  True  True  True  True  True  True  True\n",
      "  True  True  True  True  True  True  True  True  True  True  True  True\n",
      "  True  True  True  True  True  True  True  True  True  True  True  True\n",
      "  True  True]\n"
     ]
    }
   ],
   "source": [
    "# test data\n",
    "X_test=df_test.drop('id',axis=1)\n",
    "print(X_train.columns==X_test.columns)\n"
   ]
  },
  {
   "cell_type": "code",
   "execution_count": 18,
   "metadata": {},
   "outputs": [
    {
     "name": "stdout",
     "output_type": "stream",
     "text": [
      "Index(['Year_Factor', 'State_Factor', 'building_class', 'facility_type',\n",
      "       'year_built'],\n",
      "      dtype='object')\n",
      "Index(['floor_area', 'energy_star_rating', 'ELEVATION', 'january_min_temp',\n",
      "       'january_avg_temp', 'january_max_temp', 'february_min_temp',\n",
      "       'february_avg_temp', 'february_max_temp', 'march_min_temp',\n",
      "       'march_avg_temp', 'march_max_temp', 'april_min_temp', 'april_avg_temp',\n",
      "       'april_max_temp', 'may_min_temp', 'may_avg_temp', 'may_max_temp',\n",
      "       'june_min_temp', 'june_avg_temp', 'june_max_temp', 'july_min_temp',\n",
      "       'july_avg_temp', 'july_max_temp', 'august_min_temp', 'august_avg_temp',\n",
      "       'august_max_temp', 'september_min_temp', 'september_avg_temp',\n",
      "       'september_max_temp', 'october_min_temp', 'october_avg_temp',\n",
      "       'october_max_temp', 'november_min_temp', 'november_avg_temp',\n",
      "       'november_max_temp', 'december_min_temp', 'december_avg_temp',\n",
      "       'december_max_temp', 'cooling_degree_days', 'heating_degree_days',\n",
      "       'precipitation_inches', 'snowfall_inches', 'snowdepth_inches',\n",
      "       'avg_temp', 'days_below_30F', 'days_below_20F', 'days_below_10F',\n",
      "       'days_below_0F', 'days_above_80F', 'days_above_90F', 'days_above_100F',\n",
      "       'days_above_110F', 'direction_max_wind_speed',\n",
      "       'direction_peak_wind_speed', 'max_wind_speed', 'days_with_fog'],\n",
      "      dtype='object')\n"
     ]
    }
   ],
   "source": [
    "cat_attr=X_train.select_dtypes(include=['object']).columns\n",
    "num_attr=X_train.select_dtypes(exclude=['object']).columns\n",
    "print(cat_attr)\n",
    "print(num_attr)"
   ]
  },
  {
   "cell_type": "code",
   "execution_count": 19,
   "metadata": {},
   "outputs": [],
   "source": [
    "# preprocessing for numerical data\n",
    "num_transformer=Pipeline(steps=[\n",
    "    ('imputer', SimpleImputer(strategy='median')),\n",
    "    ('std_scaler', RobustScaler())\n",
    "])\n",
    "\n",
    "# Preprocessing for categorical data\n",
    "cat_transformer = Pipeline(steps=[\n",
    "    ('onehot', OneHotEncoder(handle_unknown='ignore'))\n",
    "])\n",
    "\n",
    "# buldle preprocessing for numerical and cat data\n",
    "preprocessor= ColumnTransformer(\n",
    "    transformers=[\n",
    "        ('num',num_transformer,num_attr),\n",
    "        ('cat',cat_transformer,cat_attr)\n",
    "    ]\n",
    ")"
   ]
  },
  {
   "cell_type": "code",
   "execution_count": 20,
   "metadata": {},
   "outputs": [],
   "source": [
    "# define the model\n",
    "from xgboost import XGBRegressor\n",
    "xgb_reg=XGBRegressor(n_estimators=100,learning_rate=0.1,early_stopping_rounds=5,verbosity = 0)"
   ]
  },
  {
   "cell_type": "code",
   "execution_count": null,
   "metadata": {},
   "outputs": [],
   "source": []
  },
  {
   "cell_type": "code",
   "execution_count": 21,
   "metadata": {},
   "outputs": [],
   "source": [
    "from sklearn.metrics import mean_squared_error\n",
    "from sklearn.model_selection import cross_val_score\n",
    "# Bundle preprocessing and modeling code in a pipeline\n",
    "my_pipeline = Pipeline(steps=[('preprocessor', preprocessor),\n",
    "                             ('model',xgb_reg)\n",
    "                             ])\n",
    "\n",
    "# Preprocessing of training data, fit model \n",
    "my_pipeline.fit(X_train, y_train)\n",
    "# training error\n",
    "eui_train_prediction=my_pipeline.predict(X_train)\n",
    "train_rmse=np.sqrt(mean_squared_error(y_train,eui_train_prediction))\n",
    "# Preprocessing of validation data, get predictions\n",
    "prediction=my_pipeline.predict(X_test)\n"
   ]
  },
  {
   "cell_type": "code",
   "execution_count": 22,
   "metadata": {},
   "outputs": [
    {
     "name": "stdout",
     "output_type": "stream",
     "text": [
      "Scores: [56.63757213 46.79889362 49.39152963 49.83796569 43.89568321 37.53565742\n",
      " 30.08672134 38.26048733 48.52715697 64.08236055]\n",
      "Mean Scores: 46.50540278884937\n",
      "Standard Deviation: 9.273825154974917\n"
     ]
    }
   ],
   "source": [
    "#cv\n",
    "X_train = preprocessor.transform(X_train)\n",
    "X_test = preprocessor.transform(X_test)\n",
    "cv_scores=cross_val_score(xgb_reg, X_train, y_train, cv=10, scoring=\"neg_mean_squared_error\")\n",
    "xgb_rmse_scores=np.sqrt(-cv_scores)\n",
    "print('Scores:', xgb_rmse_scores)\n",
    "print('Mean Scores:', xgb_rmse_scores.mean())\n",
    "print('Standard Deviation:', xgb_rmse_scores.std())"
   ]
  },
  {
   "cell_type": "code",
   "execution_count": 23,
   "metadata": {},
   "outputs": [
    {
     "data": {
      "text/plain": [
       "39.14488849932373"
      ]
     },
     "execution_count": 23,
     "metadata": {},
     "output_type": "execute_result"
    }
   ],
   "source": [
    "train_rmse\n",
    "#39.14488849932373"
   ]
  },
  {
   "cell_type": "code",
   "execution_count": 24,
   "metadata": {},
   "outputs": [
    {
     "data": {
      "text/plain": [
       "array([256.34363, 192.48141, 230.40848, 248.4103 , 261.3797 , 264.278  ,\n",
       "       251.30862, 225.36647, 170.95361, 286.35666], dtype=float32)"
      ]
     },
     "execution_count": 24,
     "metadata": {},
     "output_type": "execute_result"
    }
   ],
   "source": [
    "prediction[0:10]"
   ]
  },
  {
   "cell_type": "code",
   "execution_count": 25,
   "metadata": {},
   "outputs": [],
   "source": [
    "df_results = pd.DataFrame(columns = ['id', 'site_eui'])\n",
    "df_results.id=df_test.id\n",
    "df_results.site_eui=prediction\n",
    "df_results.head()\n",
    "df_results.to_csv('df_prediction_xgboost.csv', index=None,sep=',')\n",
    "# the RMSE is 45.530 after I submitted the prediction to Kaggle competition "
   ]
  },
  {
   "cell_type": "code",
   "execution_count": 26,
   "metadata": {},
   "outputs": [],
   "source": [
    "# error analysis\n",
    "df_train['eui_train_prediction']=pd.DataFrame(eui_train_prediction)\n",
    "df_train['eui_train_prediction_error']=abs(df_train.site_eui-df_train.eui_train_prediction)\n",
    "df_train.to_csv('df_train_error.csv', index=None,sep=',')"
   ]
  },
  {
   "cell_type": "code",
   "execution_count": 27,
   "metadata": {},
   "outputs": [],
   "source": [
    "# #CV\n",
    "# from sklearn.model_selection import cross_val_score\n",
    "# scores_xgb = cross_val_score(\n",
    "#     xgb_reg, X_train,y_train, cv=10, scoring=\"neg_mean_squared_error\"\n",
    "# )\n",
    "# xgb_rmse_scores=np.sqrt(-scores_xgb)\n",
    "# print('RF Scores:', xgb_rmse_scores)\n",
    "# print('RF Mean Scores:', xgb_rmse_scores.mean())\n",
    "# print('Standard Deviation:', xgb_rmse_scores.std())"
   ]
  }
 ],
 "metadata": {
  "kernelspec": {
   "display_name": "Python 3",
   "language": "python",
   "name": "python3"
  },
  "language_info": {
   "codemirror_mode": {
    "name": "ipython",
    "version": 3
   },
   "file_extension": ".py",
   "mimetype": "text/x-python",
   "name": "python",
   "nbconvert_exporter": "python",
   "pygments_lexer": "ipython3",
   "version": "3.8.5"
  }
 },
 "nbformat": 4,
 "nbformat_minor": 4
}
