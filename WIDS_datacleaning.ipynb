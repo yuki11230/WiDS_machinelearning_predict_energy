{
 "cells": [
  {
   "cell_type": "code",
   "execution_count": 1,
   "metadata": {},
   "outputs": [],
   "source": [
    "import pandas as pd\n",
    "import numpy as np\n",
    "from matplotlib import pyplot as plt\n",
    "%matplotlib inline\n",
    "import seaborn as sns"
   ]
  },
  {
   "cell_type": "code",
   "execution_count": null,
   "metadata": {},
   "outputs": [],
   "source": []
  },
  {
   "cell_type": "code",
   "execution_count": null,
   "metadata": {},
   "outputs": [],
   "source": []
  },
  {
   "cell_type": "code",
   "execution_count": null,
   "metadata": {},
   "outputs": [],
   "source": []
  },
  {
   "cell_type": "code",
   "execution_count": 2,
   "metadata": {
    "scrolled": false
   },
   "outputs": [
    {
     "data": {
      "text/html": [
       "<div>\n",
       "<style scoped>\n",
       "    .dataframe tbody tr th:only-of-type {\n",
       "        vertical-align: middle;\n",
       "    }\n",
       "\n",
       "    .dataframe tbody tr th {\n",
       "        vertical-align: top;\n",
       "    }\n",
       "\n",
       "    .dataframe thead th {\n",
       "        text-align: right;\n",
       "    }\n",
       "</style>\n",
       "<table border=\"1\" class=\"dataframe\">\n",
       "  <thead>\n",
       "    <tr style=\"text-align: right;\">\n",
       "      <th></th>\n",
       "      <th>Year_Factor</th>\n",
       "      <th>State_Factor</th>\n",
       "      <th>building_class</th>\n",
       "      <th>facility_type</th>\n",
       "      <th>floor_area</th>\n",
       "      <th>year_built</th>\n",
       "      <th>energy_star_rating</th>\n",
       "      <th>ELEVATION</th>\n",
       "      <th>january_min_temp</th>\n",
       "      <th>january_avg_temp</th>\n",
       "      <th>...</th>\n",
       "      <th>days_above_80F</th>\n",
       "      <th>days_above_90F</th>\n",
       "      <th>days_above_100F</th>\n",
       "      <th>days_above_110F</th>\n",
       "      <th>direction_max_wind_speed</th>\n",
       "      <th>direction_peak_wind_speed</th>\n",
       "      <th>max_wind_speed</th>\n",
       "      <th>days_with_fog</th>\n",
       "      <th>site_eui</th>\n",
       "      <th>id</th>\n",
       "    </tr>\n",
       "  </thead>\n",
       "  <tbody>\n",
       "    <tr>\n",
       "      <th>0</th>\n",
       "      <td>1</td>\n",
       "      <td>State_1</td>\n",
       "      <td>Commercial</td>\n",
       "      <td>Grocery_store_or_food_market</td>\n",
       "      <td>61242.0</td>\n",
       "      <td>1942.0</td>\n",
       "      <td>11.0</td>\n",
       "      <td>2.4</td>\n",
       "      <td>36</td>\n",
       "      <td>50.5</td>\n",
       "      <td>...</td>\n",
       "      <td>14</td>\n",
       "      <td>0</td>\n",
       "      <td>0</td>\n",
       "      <td>0</td>\n",
       "      <td>1.0</td>\n",
       "      <td>1.0</td>\n",
       "      <td>1.0</td>\n",
       "      <td>NaN</td>\n",
       "      <td>248.682615</td>\n",
       "      <td>0</td>\n",
       "    </tr>\n",
       "    <tr>\n",
       "      <th>1</th>\n",
       "      <td>1</td>\n",
       "      <td>State_1</td>\n",
       "      <td>Commercial</td>\n",
       "      <td>Warehouse_Distribution_or_Shipping_center</td>\n",
       "      <td>274000.0</td>\n",
       "      <td>1955.0</td>\n",
       "      <td>45.0</td>\n",
       "      <td>1.8</td>\n",
       "      <td>36</td>\n",
       "      <td>50.5</td>\n",
       "      <td>...</td>\n",
       "      <td>14</td>\n",
       "      <td>0</td>\n",
       "      <td>0</td>\n",
       "      <td>0</td>\n",
       "      <td>1.0</td>\n",
       "      <td>NaN</td>\n",
       "      <td>1.0</td>\n",
       "      <td>12.0</td>\n",
       "      <td>26.500150</td>\n",
       "      <td>1</td>\n",
       "    </tr>\n",
       "    <tr>\n",
       "      <th>2</th>\n",
       "      <td>1</td>\n",
       "      <td>State_1</td>\n",
       "      <td>Commercial</td>\n",
       "      <td>Retail_Enclosed_mall</td>\n",
       "      <td>280025.0</td>\n",
       "      <td>1951.0</td>\n",
       "      <td>97.0</td>\n",
       "      <td>1.8</td>\n",
       "      <td>36</td>\n",
       "      <td>50.5</td>\n",
       "      <td>...</td>\n",
       "      <td>14</td>\n",
       "      <td>0</td>\n",
       "      <td>0</td>\n",
       "      <td>0</td>\n",
       "      <td>1.0</td>\n",
       "      <td>NaN</td>\n",
       "      <td>1.0</td>\n",
       "      <td>12.0</td>\n",
       "      <td>24.693619</td>\n",
       "      <td>2</td>\n",
       "    </tr>\n",
       "    <tr>\n",
       "      <th>3</th>\n",
       "      <td>1</td>\n",
       "      <td>State_1</td>\n",
       "      <td>Commercial</td>\n",
       "      <td>Education_Other_classroom</td>\n",
       "      <td>55325.0</td>\n",
       "      <td>1980.0</td>\n",
       "      <td>46.0</td>\n",
       "      <td>1.8</td>\n",
       "      <td>36</td>\n",
       "      <td>50.5</td>\n",
       "      <td>...</td>\n",
       "      <td>14</td>\n",
       "      <td>0</td>\n",
       "      <td>0</td>\n",
       "      <td>0</td>\n",
       "      <td>1.0</td>\n",
       "      <td>NaN</td>\n",
       "      <td>1.0</td>\n",
       "      <td>12.0</td>\n",
       "      <td>48.406926</td>\n",
       "      <td>3</td>\n",
       "    </tr>\n",
       "    <tr>\n",
       "      <th>4</th>\n",
       "      <td>1</td>\n",
       "      <td>State_1</td>\n",
       "      <td>Commercial</td>\n",
       "      <td>Warehouse_Nonrefrigerated</td>\n",
       "      <td>66000.0</td>\n",
       "      <td>1985.0</td>\n",
       "      <td>100.0</td>\n",
       "      <td>2.4</td>\n",
       "      <td>36</td>\n",
       "      <td>50.5</td>\n",
       "      <td>...</td>\n",
       "      <td>14</td>\n",
       "      <td>0</td>\n",
       "      <td>0</td>\n",
       "      <td>0</td>\n",
       "      <td>1.0</td>\n",
       "      <td>1.0</td>\n",
       "      <td>1.0</td>\n",
       "      <td>NaN</td>\n",
       "      <td>3.899395</td>\n",
       "      <td>4</td>\n",
       "    </tr>\n",
       "  </tbody>\n",
       "</table>\n",
       "<p>5 rows × 64 columns</p>\n",
       "</div>"
      ],
      "text/plain": [
       "   Year_Factor State_Factor building_class  \\\n",
       "0            1      State_1     Commercial   \n",
       "1            1      State_1     Commercial   \n",
       "2            1      State_1     Commercial   \n",
       "3            1      State_1     Commercial   \n",
       "4            1      State_1     Commercial   \n",
       "\n",
       "                               facility_type  floor_area  year_built  \\\n",
       "0               Grocery_store_or_food_market     61242.0      1942.0   \n",
       "1  Warehouse_Distribution_or_Shipping_center    274000.0      1955.0   \n",
       "2                       Retail_Enclosed_mall    280025.0      1951.0   \n",
       "3                  Education_Other_classroom     55325.0      1980.0   \n",
       "4                  Warehouse_Nonrefrigerated     66000.0      1985.0   \n",
       "\n",
       "   energy_star_rating  ELEVATION  january_min_temp  january_avg_temp  ...  \\\n",
       "0                11.0        2.4                36              50.5  ...   \n",
       "1                45.0        1.8                36              50.5  ...   \n",
       "2                97.0        1.8                36              50.5  ...   \n",
       "3                46.0        1.8                36              50.5  ...   \n",
       "4               100.0        2.4                36              50.5  ...   \n",
       "\n",
       "   days_above_80F  days_above_90F  days_above_100F  days_above_110F  \\\n",
       "0              14               0                0                0   \n",
       "1              14               0                0                0   \n",
       "2              14               0                0                0   \n",
       "3              14               0                0                0   \n",
       "4              14               0                0                0   \n",
       "\n",
       "   direction_max_wind_speed  direction_peak_wind_speed  max_wind_speed  \\\n",
       "0                       1.0                        1.0             1.0   \n",
       "1                       1.0                        NaN             1.0   \n",
       "2                       1.0                        NaN             1.0   \n",
       "3                       1.0                        NaN             1.0   \n",
       "4                       1.0                        1.0             1.0   \n",
       "\n",
       "   days_with_fog    site_eui  id  \n",
       "0            NaN  248.682615   0  \n",
       "1           12.0   26.500150   1  \n",
       "2           12.0   24.693619   2  \n",
       "3           12.0   48.406926   3  \n",
       "4            NaN    3.899395   4  \n",
       "\n",
       "[5 rows x 64 columns]"
      ]
     },
     "execution_count": 2,
     "metadata": {},
     "output_type": "execute_result"
    }
   ],
   "source": [
    "train_data = pd.read_csv('train.csv')\n",
    "df=train_data.copy()\n",
    "df.head()"
   ]
  },
  {
   "cell_type": "markdown",
   "metadata": {},
   "source": [
    "# Duplicates"
   ]
  },
  {
   "cell_type": "code",
   "execution_count": 3,
   "metadata": {},
   "outputs": [
    {
     "name": "stdout",
     "output_type": "stream",
     "text": [
      "(75757, 64)\n"
     ]
    }
   ],
   "source": [
    "# sizb of the dataset\n",
    "print(df.shape)"
   ]
  },
  {
   "cell_type": "code",
   "execution_count": 4,
   "metadata": {},
   "outputs": [
    {
     "name": "stdout",
     "output_type": "stream",
     "text": [
      "0\n",
      "(75757, 64)\n"
     ]
    }
   ],
   "source": [
    "# check number of duplicates for the whole datasets\n",
    "print(df.duplicated().sum())\n",
    "# Drop duplcates\n",
    "df = df.drop_duplicates()\n",
    "print( df.shape )"
   ]
  },
  {
   "cell_type": "markdown",
   "metadata": {},
   "source": [
    "# check missing values"
   ]
  },
  {
   "cell_type": "code",
   "execution_count": null,
   "metadata": {},
   "outputs": [],
   "source": []
  },
  {
   "cell_type": "code",
   "execution_count": 5,
   "metadata": {},
   "outputs": [
    {
     "name": "stdout",
     "output_type": "stream",
     "text": [
      "year_built\n",
      "False    73920\n",
      "True      1837\n",
      "Name: year_built, dtype: int64\n",
      "\n",
      "energy_star_rating\n",
      "False    49048\n",
      "True     26709\n",
      "Name: energy_star_rating, dtype: int64\n",
      "\n",
      "direction_max_wind_speed\n",
      "True     41082\n",
      "False    34675\n",
      "Name: direction_max_wind_speed, dtype: int64\n",
      "\n",
      "direction_peak_wind_speed\n",
      "True     41811\n",
      "False    33946\n",
      "Name: direction_peak_wind_speed, dtype: int64\n",
      "\n",
      "max_wind_speed\n",
      "True     41082\n",
      "False    34675\n",
      "Name: max_wind_speed, dtype: int64\n",
      "\n",
      "days_with_fog\n",
      "True     45796\n",
      "False    29961\n",
      "Name: days_with_fog, dtype: int64\n",
      "\n"
     ]
    }
   ],
   "source": [
    "# return the columns with missing values and number of missing values\n",
    "missing_data=df.isnull()\n",
    "for column in missing_data.columns:\n",
    "    if missing_data[column].value_counts()[False]!=len(df.index):\n",
    "        print(column)\n",
    "        print(missing_data[column].value_counts())\n",
    "        print(\"\") \n",
    "# if not intersted in number of missing values"
   ]
  },
  {
   "cell_type": "code",
   "execution_count": 6,
   "metadata": {},
   "outputs": [
    {
     "name": "stdout",
     "output_type": "stream",
     "text": [
      "[1942. 1955. 1951. 1980. 1985. 1956. 1982. 1947. 1929. 1979. 1927. 1960.\n",
      " 1924.   nan 1949. 1926. 1914. 1973. 1900. 1913. 1962. 1989. 1967. 1954.\n",
      " 1986. 1906. 1912. 1902. 1920. 1905. 1997. 1909. 2002. 1974. 1907. 1908.\n",
      " 1988. 1987. 1923. 1948. 1966. 1975. 1934. 1938. 1983. 2003. 1915. 1961.\n",
      " 1911. 1925. 1964. 1953. 1957. 2006. 1990. 1991. 1969. 1968. 1910. 1937.\n",
      " 1971. 1965. 1946. 1917. 1901. 2000. 2008. 1999. 1981. 2001. 1978. 1898.\n",
      " 1928. 1970. 1918. 1930. 1903. 1936. 1921. 1922. 1984. 1976. 1952. 1959.\n",
      " 1916. 1963. 1972. 1919. 1931. 1958.    0. 1994. 1940. 2010. 2009. 1889.\n",
      " 1939. 1945. 1904. 1932. 1941. 1977. 1993. 1992. 1950. 1944. 1935. 1996.\n",
      " 1995. 1933. 1943. 2007. 2005. 2004. 1869. 2011. 2012. 1864. 1998. 1895.\n",
      " 1896. 1875. 1880. 1888. 1897. 1891. 2013. 1887. 1882. 1886. 1890. 1789.\n",
      " 1868. 1885. 2014. 1867. 2015. 1829. 1844. 1871. 1893. 1892. 1879. 1860.\n",
      " 1894. 1883. 1874. 1884. 1873. 1899. 1872. 1876. 1865. 1850. 1870. 1600.\n",
      " 1848. 1857. 1877. 1836. 1853. 1881. 1649. 1827. 1845. 1878. 1846. 1800.\n",
      " 1811. 1859. 1854. 1833. 1862. 1851. 1799. 1841. 1818. 1756. 1843. 1732.\n",
      " 1815.]\n",
      "(6, 64)\n",
      "(1837, 64)\n"
     ]
    }
   ],
   "source": [
    "print(df.year_built.unique())\n",
    "year0=df[df.year_built==0]\n",
    "print(year0.shape)\n",
    "year_missing=df[df.year_built.isnull()]\n",
    "print(year_missing.shape)"
   ]
  },
  {
   "cell_type": "markdown",
   "metadata": {},
   "source": [
    "# check the categorical variables "
   ]
  },
  {
   "cell_type": "code",
   "execution_count": 7,
   "metadata": {},
   "outputs": [
    {
     "data": {
      "text/plain": [
       "State_Factor      object\n",
       "building_class    object\n",
       "facility_type     object\n",
       "dtype: object"
      ]
     },
     "execution_count": 7,
     "metadata": {},
     "output_type": "execute_result"
    }
   ],
   "source": [
    "# Filter and display only df.dtypes that are 'object'/categorical variables\n",
    "df.dtypes[df.dtypes == 'object']"
   ]
  },
  {
   "cell_type": "code",
   "execution_count": 8,
   "metadata": {},
   "outputs": [
    {
     "name": "stdout",
     "output_type": "stream",
     "text": [
      "['State_1' 'State_2' 'State_4' 'State_6' 'State_8' 'State_10' 'State_11']\n"
     ]
    },
    {
     "data": {
      "image/png": "[encoded data removed]",
      "text/plain": [
       "<Figure size 432x288 with 1 Axes>"
      ]
     },
     "metadata": {
      "needs_background": "light"
     },
     "output_type": "display_data"
    }
   ],
   "source": [
    "# Class distributions for 'state_factor'\n",
    "print(df.State_Factor.unique())\n",
    "sns.countplot(y='State_Factor', data=df)\n",
    "plt.show()"
   ]
  },
  {
   "cell_type": "code",
   "execution_count": 9,
   "metadata": {},
   "outputs": [
    {
     "name": "stdout",
     "output_type": "stream",
     "text": [
      "Residential    43558\n",
      "Commercial     32199\n",
      "Name: building_class, dtype: int64\n"
     ]
    },
    {
     "data": {
      "image/png": "[encoded data removed]",
      "text/plain": [
       "<Figure size 432x288 with 1 Axes>"
      ]
     },
     "metadata": {
      "needs_background": "light"
     },
     "output_type": "display_data"
    }
   ],
   "source": [
    "# Class distributions for 'building_class'\n",
    "print(df.building_class.value_counts())\n",
    "sns.countplot(y='building_class', data=df)\n",
    "plt.show()"
   ]
  },
  {
   "cell_type": "code",
   "execution_count": 10,
   "metadata": {},
   "outputs": [
    {
     "name": "stdout",
     "output_type": "stream",
     "text": [
      "Multifamily_Uncategorized                    39455\n",
      "Office_Uncategorized                         12512\n",
      "Education_Other_classroom                     3860\n",
      "Lodging_Hotel                                 2098\n",
      "2to4_Unit_Building                            1893\n",
      "Commercial_Other                              1744\n",
      "5plus_Unit_Building                           1273\n",
      "Warehouse_Nonrefrigerated                     1255\n",
      "Retail_Uncategorized                          1130\n",
      "Education_College_or_university               1056\n",
      "Nursing_Home                                   772\n",
      "Education_Uncategorized                        709\n",
      "Mixed_Use_Commercial_and_Residential           672\n",
      "Lodging_Dormitory_or_fraternity_sorority       669\n",
      "Warehouse_Distribution_or_Shipping_center      604\n",
      "Warehouse_Selfstorage                          577\n",
      "Grocery_store_or_food_market                   448\n",
      "Office_Medical_non_diagnostic                  447\n",
      "Health_Care_Inpatient                          409\n",
      "Religious_worship                              399\n",
      "Industrial                                     384\n",
      "Warehouse_Uncategorized                        330\n",
      "Mixed_Use_Predominantly_Commercial             256\n",
      "Parking_Garage                                 251\n",
      "Office_Bank_or_other_financial                 173\n",
      "Public_Assembly_Library                        160\n",
      "Public_Safety_Fire_or_police_station           157\n",
      "Public_Assembly_Other                          142\n",
      "Service_Vehicle_service_repair_shop            138\n",
      "Retail_Enclosed_mall                           120\n",
      "Warehouse_Refrigerated                         113\n",
      "Retail_Strip_shopping_mall                     113\n",
      "Public_Assembly_Entertainment_culture          110\n",
      "Education_Preschool_or_daycare                 108\n",
      "Laboratory                                     107\n",
      "Commercial_Unknown                              95\n",
      "Public_Assembly_Social_meeting                  88\n",
      "Lodging_Other                                   75\n",
      "Retail_Vehicle_dealership_showroom              74\n",
      "Public_Assembly_Recreation                      72\n",
      "Food_Sales                                      70\n",
      "Public_Assembly_Drama_theater                   70\n",
      "Service_Uncategorized                           68\n",
      "Food_Service_Restaurant_or_cafeteria            64\n",
      "Health_Care_Outpatient_Clinic                   56\n",
      "Health_Care_Uncategorized                       51\n",
      "Public_Safety_Uncategorized                     43\n",
      "Public_Assembly_Movie_Theater                   39\n",
      "Public_Safety_Courthouse                        38\n",
      "Public_Safety_Penitentiary                      37\n",
      "Health_Care_Outpatient_Uncategorized            36\n",
      "Data_Center                                     27\n",
      "Public_Assembly_Uncategorized                   25\n",
      "Office_Mixed_use                                18\n",
      "Food_Service_Uncategorized                      18\n",
      "Food_Service_Other                              17\n",
      "Public_Assembly_Stadium                          9\n",
      "Mixed_Use_Predominantly_Residential              9\n",
      "Service_Drycleaning_or_Laundry                   9\n",
      "Lodging_Uncategorized                            5\n",
      "Name: facility_type, dtype: int64\n"
     ]
    },
    {
     "data": {
      "image/png": "[encoded data removed]",
      "text/plain": [
       "<Figure size 432x288 with 1 Axes>"
      ]
     },
     "metadata": {
      "needs_background": "light"
     },
     "output_type": "display_data"
    }
   ],
   "source": [
    "# Class distributions for 'facility_type'\n",
    "print(df.facility_type.value_counts())\n",
    "sns.countplot(y='facility_type', data=df)\n",
    "plt.show()\n",
    "sns.set(rc={'figure.figsize':(8,16)})"
   ]
  },
  {
   "cell_type": "markdown",
   "metadata": {},
   "source": [
    "# Remove Outlier"
   ]
  },
  {
   "cell_type": "code",
   "execution_count": 11,
   "metadata": {},
   "outputs": [
    {
     "data": {
      "image/png": "[encoded data removed]",
      "text/plain": [
       "<Figure size 576x1152 with 1 Axes>"
      ]
     },
     "metadata": {},
     "output_type": "display_data"
    },
    {
     "data": {
      "image/png": "[encoded data removed]",
      "text/plain": [
       "<Figure size 576x1152 with 1 Axes>"
      ]
     },
     "metadata": {},
     "output_type": "display_data"
    }
   ],
   "source": [
    "#boxplot of 'site_eui'\n",
    "sns.boxplot(x='site_eui', data=df)\n",
    "plt.xlim(0, 1200) # setting x-axis range to be consistent\n",
    "plt.show()\n",
    "\n",
    "# Violin plot of 'site_eui'\n",
    "sns.violinplot(x='site_eui', data=df)\n",
    "plt.xlim(0, 1200) # setting x-axis range to be consistent\n",
    "plt.show()"
   ]
  },
  {
   "cell_type": "code",
   "execution_count": 12,
   "metadata": {},
   "outputs": [
    {
     "data": {
      "image/png": "[encoded data removed]",
      "text/plain": [
       "<Figure size 576x1152 with 1 Axes>"
      ]
     },
     "metadata": {},
     "output_type": "display_data"
    }
   ],
   "source": [
    "# Violin plot of 'january_min_temp'\n",
    "sns.violinplot(x='january_min_temp', data=df)\n",
    "plt.show()"
   ]
  },
  {
   "cell_type": "code",
   "execution_count": 13,
   "metadata": {},
   "outputs": [
    {
     "data": {
      "image/png": "[encoded data removed]",
      "text/plain": [
       "<Figure size 576x1152 with 1 Axes>"
      ]
     },
     "metadata": {},
     "output_type": "display_data"
    }
   ],
   "source": [
    "# Violin plot of 'january_max_temp'\n",
    "sns.violinplot(x='january_max_temp', data=df)\n",
    "plt.show()"
   ]
  },
  {
   "cell_type": "code",
   "execution_count": 14,
   "metadata": {},
   "outputs": [
    {
     "data": {
      "image/png": "[encoded data removed]",
      "text/plain": [
       "<Figure size 576x1152 with 1 Axes>"
      ]
     },
     "metadata": {},
     "output_type": "display_data"
    }
   ],
   "source": [
    "# Violin plot of 'january_avg_temp'\n",
    "sns.violinplot(x='january_avg_temp', data=df)\n",
    "plt.show()"
   ]
  },
  {
   "cell_type": "markdown",
   "metadata": {},
   "source": [
    "# Take care of missing values"
   ]
  },
  {
   "cell_type": "code",
   "execution_count": 15,
   "metadata": {},
   "outputs": [
    {
     "name": "stdout",
     "output_type": "stream",
     "text": [
      "year_built\n",
      "False    73920\n",
      "True      1837\n",
      "Name: year_built, dtype: int64\n",
      "\n",
      "energy_star_rating\n",
      "False    49048\n",
      "True     26709\n",
      "Name: energy_star_rating, dtype: int64\n",
      "\n",
      "direction_max_wind_speed\n",
      "True     41082\n",
      "False    34675\n",
      "Name: direction_max_wind_speed, dtype: int64\n",
      "\n",
      "direction_peak_wind_speed\n",
      "True     41811\n",
      "False    33946\n",
      "Name: direction_peak_wind_speed, dtype: int64\n",
      "\n",
      "max_wind_speed\n",
      "True     41082\n",
      "False    34675\n",
      "Name: max_wind_speed, dtype: int64\n",
      "\n",
      "days_with_fog\n",
      "True     45796\n",
      "False    29961\n",
      "Name: days_with_fog, dtype: int64\n",
      "\n"
     ]
    }
   ],
   "source": [
    "# return the columns with missing values and number of missing values\n",
    "missing_data=df.isnull()\n",
    "for column in missing_data.columns:\n",
    "    if missing_data[column].value_counts()[False]!=len(df.index):\n",
    "        print(column)\n",
    "        print(missing_data[column].value_counts())\n",
    "        print(\"\") \n",
    "# if not intersted in number of missing values"
   ]
  },
  {
   "cell_type": "code",
   "execution_count": 16,
   "metadata": {},
   "outputs": [
    {
     "data": {
      "text/plain": [
       "State_Factor      0\n",
       "building_class    0\n",
       "facility_type     0\n",
       "dtype: int64"
      ]
     },
     "execution_count": 16,
     "metadata": {},
     "output_type": "execute_result"
    }
   ],
   "source": [
    "# Display number of missing values for categorical values\n",
    "df.select_dtypes(include=['object']).isnull().sum()"
   ]
  },
  {
   "cell_type": "code",
   "execution_count": 17,
   "metadata": {},
   "outputs": [
    {
     "data": {
      "text/plain": [
       "Year_Factor                      0\n",
       "floor_area                       0\n",
       "year_built                    1837\n",
       "energy_star_rating           26709\n",
       "ELEVATION                        0\n",
       "                             ...  \n",
       "direction_peak_wind_speed    41811\n",
       "max_wind_speed               41082\n",
       "days_with_fog                45796\n",
       "site_eui                         0\n",
       "id                               0\n",
       "Length: 61, dtype: int64"
      ]
     },
     "execution_count": 17,
     "metadata": {},
     "output_type": "execute_result"
    }
   ],
   "source": [
    "# Display number of missing values for numerical values\n",
    "df.select_dtypes(exclude=['object']).isnull().sum()"
   ]
  },
  {
   "cell_type": "code",
   "execution_count": 18,
   "metadata": {},
   "outputs": [],
   "source": [
    "# # impute missing values using the median\n",
    "# from sklearn.impute import SimpleImputer\n",
    "# imputer =  SimpleImputer(strategy='median')\n",
    "# # drop the categorical data, since median can only be applied to numerical \n",
    "# df_num = df.drop(['State_Factor','building_class','facility_type'],axis=1)\n",
    "# imputer.fit(df_num)\n",
    "# imputer.statistics_\n",
    "#X=imputer.transform(df_num)\n",
    "#df_num_cleaned=pd.DataFrame(X, columns=df_num.columns, index=df_num.index)"
   ]
  },
  {
   "cell_type": "markdown",
   "metadata": {},
   "source": [
    "# numerical data cleaning pipelines"
   ]
  },
  {
   "cell_type": "code",
   "execution_count": 19,
   "metadata": {},
   "outputs": [],
   "source": [
    "from  sklearn.pipeline import Pipeline\n",
    "from sklearn.impute import SimpleImputer\n",
    "from sklearn.preprocessing import StandardScaler\n",
    "\n",
    "num_pipeline=Pipeline([\n",
    "    ('imputer', SimpleImputer(strategy='median')),\n",
    "    ('std_scaler', StandardScaler())\n",
    "])\n"
   ]
  },
  {
   "cell_type": "code",
   "execution_count": 53,
   "metadata": {},
   "outputs": [],
   "source": [
    "# create a copy of the numerical variables that need transformation\n",
    "df_num_need_tr = df.drop(['id','Year_Factor','State_Factor','building_class',\n",
    "                  'year_built','facility_type','site_eui'],axis=1)\n",
    "df_num_tr=num_pipeline.fit_transform(df_num_need_tr)\n",
    "df_num_tr=pd.DataFrame(df_num_tr, columns=df_num_need_tr.columns).reset_index()"
   ]
  },
  {
   "cell_type": "code",
   "execution_count": 39,
   "metadata": {},
   "outputs": [
    {
     "data": {
      "text/html": [
       "<div>\n",
       "<style scoped>\n",
       "    .dataframe tbody tr th:only-of-type {\n",
       "        vertical-align: middle;\n",
       "    }\n",
       "\n",
       "    .dataframe tbody tr th {\n",
       "        vertical-align: top;\n",
       "    }\n",
       "\n",
       "    .dataframe thead th {\n",
       "        text-align: right;\n",
       "    }\n",
       "</style>\n",
       "<table border=\"1\" class=\"dataframe\">\n",
       "  <thead>\n",
       "    <tr style=\"text-align: right;\">\n",
       "      <th></th>\n",
       "      <th>floor_area</th>\n",
       "      <th>energy_star_rating</th>\n",
       "      <th>ELEVATION</th>\n",
       "      <th>january_min_temp</th>\n",
       "      <th>january_avg_temp</th>\n",
       "      <th>january_max_temp</th>\n",
       "      <th>february_min_temp</th>\n",
       "      <th>february_avg_temp</th>\n",
       "      <th>february_max_temp</th>\n",
       "      <th>march_min_temp</th>\n",
       "      <th>...</th>\n",
       "      <th>days_below_10F</th>\n",
       "      <th>days_below_0F</th>\n",
       "      <th>days_above_80F</th>\n",
       "      <th>days_above_90F</th>\n",
       "      <th>days_above_100F</th>\n",
       "      <th>days_above_110F</th>\n",
       "      <th>direction_max_wind_speed</th>\n",
       "      <th>direction_peak_wind_speed</th>\n",
       "      <th>max_wind_speed</th>\n",
       "      <th>days_with_fog</th>\n",
       "    </tr>\n",
       "  </thead>\n",
       "  <tbody>\n",
       "    <tr>\n",
       "      <th>0</th>\n",
       "      <td>-0.424272</td>\n",
       "      <td>-2.244014</td>\n",
       "      <td>-0.611748</td>\n",
       "      <td>2.618884</td>\n",
       "      <td>2.314092</td>\n",
       "      <td>1.670279</td>\n",
       "      <td>1.850925</td>\n",
       "      <td>1.698778</td>\n",
       "      <td>1.724835</td>\n",
       "      <td>1.838593</td>\n",
       "      <td>...</td>\n",
       "      <td>-0.69105</td>\n",
       "      <td>-0.302936</td>\n",
       "      <td>-2.717656</td>\n",
       "      <td>-1.284612</td>\n",
       "      <td>-0.124112</td>\n",
       "      <td>-0.017181</td>\n",
       "      <td>-0.317352</td>\n",
       "      <td>-0.299344</td>\n",
       "      <td>-0.314077</td>\n",
       "      <td>-0.063586</td>\n",
       "    </tr>\n",
       "    <tr>\n",
       "      <th>1</th>\n",
       "      <td>0.437535</td>\n",
       "      <td>-0.780906</td>\n",
       "      <td>-0.621640</td>\n",
       "      <td>2.618884</td>\n",
       "      <td>2.314092</td>\n",
       "      <td>1.670279</td>\n",
       "      <td>1.850925</td>\n",
       "      <td>1.698778</td>\n",
       "      <td>1.724835</td>\n",
       "      <td>1.838593</td>\n",
       "      <td>...</td>\n",
       "      <td>-0.69105</td>\n",
       "      <td>-0.302936</td>\n",
       "      <td>-2.717656</td>\n",
       "      <td>-1.284612</td>\n",
       "      <td>-0.124112</td>\n",
       "      <td>-0.017181</td>\n",
       "      <td>-0.317352</td>\n",
       "      <td>-0.299344</td>\n",
       "      <td>-0.314077</td>\n",
       "      <td>-2.940165</td>\n",
       "    </tr>\n",
       "    <tr>\n",
       "      <th>2</th>\n",
       "      <td>0.461940</td>\n",
       "      <td>1.456789</td>\n",
       "      <td>-0.621640</td>\n",
       "      <td>2.618884</td>\n",
       "      <td>2.314092</td>\n",
       "      <td>1.670279</td>\n",
       "      <td>1.850925</td>\n",
       "      <td>1.698778</td>\n",
       "      <td>1.724835</td>\n",
       "      <td>1.838593</td>\n",
       "      <td>...</td>\n",
       "      <td>-0.69105</td>\n",
       "      <td>-0.302936</td>\n",
       "      <td>-2.717656</td>\n",
       "      <td>-1.284612</td>\n",
       "      <td>-0.124112</td>\n",
       "      <td>-0.017181</td>\n",
       "      <td>-0.317352</td>\n",
       "      <td>-0.299344</td>\n",
       "      <td>-0.314077</td>\n",
       "      <td>-2.940165</td>\n",
       "    </tr>\n",
       "    <tr>\n",
       "      <th>3</th>\n",
       "      <td>-0.448240</td>\n",
       "      <td>-0.737873</td>\n",
       "      <td>-0.621640</td>\n",
       "      <td>2.618884</td>\n",
       "      <td>2.314092</td>\n",
       "      <td>1.670279</td>\n",
       "      <td>1.850925</td>\n",
       "      <td>1.698778</td>\n",
       "      <td>1.724835</td>\n",
       "      <td>1.838593</td>\n",
       "      <td>...</td>\n",
       "      <td>-0.69105</td>\n",
       "      <td>-0.302936</td>\n",
       "      <td>-2.717656</td>\n",
       "      <td>-1.284612</td>\n",
       "      <td>-0.124112</td>\n",
       "      <td>-0.017181</td>\n",
       "      <td>-0.317352</td>\n",
       "      <td>-0.299344</td>\n",
       "      <td>-0.314077</td>\n",
       "      <td>-2.940165</td>\n",
       "    </tr>\n",
       "    <tr>\n",
       "      <th>4</th>\n",
       "      <td>-0.404999</td>\n",
       "      <td>1.585887</td>\n",
       "      <td>-0.611748</td>\n",
       "      <td>2.618884</td>\n",
       "      <td>2.314092</td>\n",
       "      <td>1.670279</td>\n",
       "      <td>1.850925</td>\n",
       "      <td>1.698778</td>\n",
       "      <td>1.724835</td>\n",
       "      <td>1.838593</td>\n",
       "      <td>...</td>\n",
       "      <td>-0.69105</td>\n",
       "      <td>-0.302936</td>\n",
       "      <td>-2.717656</td>\n",
       "      <td>-1.284612</td>\n",
       "      <td>-0.124112</td>\n",
       "      <td>-0.017181</td>\n",
       "      <td>-0.317352</td>\n",
       "      <td>-0.299344</td>\n",
       "      <td>-0.314077</td>\n",
       "      <td>-0.063586</td>\n",
       "    </tr>\n",
       "  </tbody>\n",
       "</table>\n",
       "<p>5 rows × 57 columns</p>\n",
       "</div>"
      ],
      "text/plain": [
       "   floor_area  energy_star_rating  ELEVATION  january_min_temp  \\\n",
       "0   -0.424272           -2.244014  -0.611748          2.618884   \n",
       "1    0.437535           -0.780906  -0.621640          2.618884   \n",
       "2    0.461940            1.456789  -0.621640          2.618884   \n",
       "3   -0.448240           -0.737873  -0.621640          2.618884   \n",
       "4   -0.404999            1.585887  -0.611748          2.618884   \n",
       "\n",
       "   january_avg_temp  january_max_temp  february_min_temp  february_avg_temp  \\\n",
       "0          2.314092          1.670279           1.850925           1.698778   \n",
       "1          2.314092          1.670279           1.850925           1.698778   \n",
       "2          2.314092          1.670279           1.850925           1.698778   \n",
       "3          2.314092          1.670279           1.850925           1.698778   \n",
       "4          2.314092          1.670279           1.850925           1.698778   \n",
       "\n",
       "   february_max_temp  march_min_temp  ...  days_below_10F  days_below_0F  \\\n",
       "0           1.724835        1.838593  ...        -0.69105      -0.302936   \n",
       "1           1.724835        1.838593  ...        -0.69105      -0.302936   \n",
       "2           1.724835        1.838593  ...        -0.69105      -0.302936   \n",
       "3           1.724835        1.838593  ...        -0.69105      -0.302936   \n",
       "4           1.724835        1.838593  ...        -0.69105      -0.302936   \n",
       "\n",
       "   days_above_80F  days_above_90F  days_above_100F  days_above_110F  \\\n",
       "0       -2.717656       -1.284612        -0.124112        -0.017181   \n",
       "1       -2.717656       -1.284612        -0.124112        -0.017181   \n",
       "2       -2.717656       -1.284612        -0.124112        -0.017181   \n",
       "3       -2.717656       -1.284612        -0.124112        -0.017181   \n",
       "4       -2.717656       -1.284612        -0.124112        -0.017181   \n",
       "\n",
       "   direction_max_wind_speed  direction_peak_wind_speed  max_wind_speed  \\\n",
       "0                 -0.317352                  -0.299344       -0.314077   \n",
       "1                 -0.317352                  -0.299344       -0.314077   \n",
       "2                 -0.317352                  -0.299344       -0.314077   \n",
       "3                 -0.317352                  -0.299344       -0.314077   \n",
       "4                 -0.317352                  -0.299344       -0.314077   \n",
       "\n",
       "   days_with_fog  \n",
       "0      -0.063586  \n",
       "1      -2.940165  \n",
       "2      -2.940165  \n",
       "3      -2.940165  \n",
       "4      -0.063586  \n",
       "\n",
       "[5 rows x 57 columns]"
      ]
     },
     "execution_count": 39,
     "metadata": {},
     "output_type": "execute_result"
    }
   ],
   "source": [
    "df_num_tr.head()"
   ]
  },
  {
   "cell_type": "code",
   "execution_count": 21,
   "metadata": {},
   "outputs": [
    {
     "name": "stdout",
     "output_type": "stream",
     "text": [
      "1927.0    2064\n",
      "1929.0    1999\n",
      "1928.0    1979\n",
      "1930.0    1811\n",
      "1925.0    1710\n",
      "          ... \n",
      "1846.0       1\n",
      "1833.0       1\n",
      "1878.0       1\n",
      "1841.0       1\n",
      "1844.0       1\n",
      "Name: year_built, Length: 180, dtype: int64\n",
      "1951.0\n"
     ]
    }
   ],
   "source": [
    "# for missing 'year_built', we will use median value\n",
    "print(df['year_built'].value_counts())\n",
    "print(df['year_built'].median())\n",
    "df['year_built'].fillna(df['year_built'].median(),inplace=True)"
   ]
  },
  {
   "cell_type": "markdown",
   "metadata": {},
   "source": [
    "# seperate numerical/categorical values"
   ]
  },
  {
   "cell_type": "code",
   "execution_count": 22,
   "metadata": {},
   "outputs": [],
   "source": [
    "# transform some of the numerical to cat values\n",
    "df['Year_Factor']=df['Year_Factor'].astype('object',copy=False)\n",
    "df['year_built']=df['year_built'].astype('object',copy=False)"
   ]
  },
  {
   "cell_type": "code",
   "execution_count": 23,
   "metadata": {},
   "outputs": [
    {
     "name": "stdout",
     "output_type": "stream",
     "text": [
      "Index(['Year_Factor', 'State_Factor', 'building_class', 'facility_type',\n",
      "       'year_built'],\n",
      "      dtype='object')\n"
     ]
    }
   ],
   "source": [
    "df_cat=df.select_dtypes(include=['object'])\n",
    "print(df_cat.columns)"
   ]
  },
  {
   "cell_type": "markdown",
   "metadata": {},
   "source": [
    "# categorical data cleaning pipelines"
   ]
  },
  {
   "cell_type": "code",
   "execution_count": 24,
   "metadata": {},
   "outputs": [
    {
     "name": "stdout",
     "output_type": "stream",
     "text": [
      "['old' 'new']\n"
     ]
    }
   ],
   "source": [
    "# group some cat values\n",
    "df['year_built']=df['year_built'].apply(lambda x: 'old' if x<=1951 else 'new')\n",
    "print(df['year_built'].unique())\n"
   ]
  },
  {
   "cell_type": "code",
   "execution_count": 25,
   "metadata": {},
   "outputs": [
    {
     "data": {
      "text/plain": [
       "Nursing_Home                                 772\n",
       "Education_Uncategorized                      709\n",
       "Mixed_Use_Commercial_and_Residential         672\n",
       "Lodging_Dormitory_or_fraternity_sorority     669\n",
       "Warehouse_Distribution_or_Shipping_center    604\n",
       "Warehouse_Selfstorage                        577\n",
       "Grocery_store_or_food_market                 448\n",
       "Office_Medical_non_diagnostic                447\n",
       "Health_Care_Inpatient                        409\n",
       "Religious_worship                            399\n",
       "Industrial                                   384\n",
       "Warehouse_Uncategorized                      330\n",
       "Mixed_Use_Predominantly_Commercial           256\n",
       "Parking_Garage                               251\n",
       "Office_Bank_or_other_financial               173\n",
       "Public_Assembly_Library                      160\n",
       "Public_Safety_Fire_or_police_station         157\n",
       "Public_Assembly_Other                        142\n",
       "Service_Vehicle_service_repair_shop          138\n",
       "Retail_Enclosed_mall                         120\n",
       "Warehouse_Refrigerated                       113\n",
       "Retail_Strip_shopping_mall                   113\n",
       "Public_Assembly_Entertainment_culture        110\n",
       "Education_Preschool_or_daycare               108\n",
       "Laboratory                                   107\n",
       "Commercial_Unknown                            95\n",
       "Public_Assembly_Social_meeting                88\n",
       "Lodging_Other                                 75\n",
       "Retail_Vehicle_dealership_showroom            74\n",
       "Public_Assembly_Recreation                    72\n",
       "Food_Sales                                    70\n",
       "Public_Assembly_Drama_theater                 70\n",
       "Service_Uncategorized                         68\n",
       "Food_Service_Restaurant_or_cafeteria          64\n",
       "Health_Care_Outpatient_Clinic                 56\n",
       "Health_Care_Uncategorized                     51\n",
       "Public_Safety_Uncategorized                   43\n",
       "Public_Assembly_Movie_Theater                 39\n",
       "Public_Safety_Courthouse                      38\n",
       "Public_Safety_Penitentiary                    37\n",
       "Health_Care_Outpatient_Uncategorized          36\n",
       "Data_Center                                   27\n",
       "Public_Assembly_Uncategorized                 25\n",
       "Office_Mixed_use                              18\n",
       "Food_Service_Uncategorized                    18\n",
       "Food_Service_Other                            17\n",
       "Public_Assembly_Stadium                        9\n",
       "Mixed_Use_Predominantly_Residential            9\n",
       "Service_Drycleaning_or_Laundry                 9\n",
       "Lodging_Uncategorized                          5\n",
       "Name: facility_type, dtype: int64"
      ]
     },
     "execution_count": 25,
     "metadata": {},
     "output_type": "execute_result"
    }
   ],
   "source": [
    "df['facility_type'].value_counts()[df['facility_type'].value_counts() < 1000]"
   ]
  },
  {
   "cell_type": "code",
   "execution_count": 26,
   "metadata": {},
   "outputs": [],
   "source": [
    "#print(df['facility_type'].value_counts())\n",
    "df.loc[df['facility_type'].isin((df['facility_type'].value_counts()\n",
    "                            [df['facility_type'].value_counts() < 1000]).index), 'facility_type'] = 'other'"
   ]
  },
  {
   "cell_type": "code",
   "execution_count": 27,
   "metadata": {},
   "outputs": [
    {
     "name": "stdout",
     "output_type": "stream",
     "text": [
      "Multifamily_Uncategorized          39455\n",
      "Office_Uncategorized               12512\n",
      "other                               9481\n",
      "Education_Other_classroom           3860\n",
      "Lodging_Hotel                       2098\n",
      "2to4_Unit_Building                  1893\n",
      "Commercial_Other                    1744\n",
      "5plus_Unit_Building                 1273\n",
      "Warehouse_Nonrefrigerated           1255\n",
      "Retail_Uncategorized                1130\n",
      "Education_College_or_university     1056\n",
      "Name: facility_type, dtype: int64\n"
     ]
    }
   ],
   "source": [
    "print(df['facility_type'].value_counts())"
   ]
  },
  {
   "cell_type": "code",
   "execution_count": 28,
   "metadata": {},
   "outputs": [
    {
     "name": "stdout",
     "output_type": "stream",
     "text": [
      "Year_Factor\n",
      "6    22449\n",
      "5    18308\n",
      "4    12946\n",
      "3    10879\n",
      "2     9058\n",
      "1     2117\n",
      "Name: Year_Factor, dtype: int64\n",
      "\n",
      "State_Factor\n",
      "State_6     50840\n",
      "State_11     6412\n",
      "State_1      5618\n",
      "State_2      4871\n",
      "State_4      4300\n",
      "State_8      3701\n",
      "State_10       15\n",
      "Name: State_Factor, dtype: int64\n",
      "\n",
      "building_class\n",
      "Residential    43558\n",
      "Commercial     32199\n",
      "Name: building_class, dtype: int64\n",
      "\n",
      "year_built\n",
      "old    38809\n",
      "new    36948\n",
      "Name: year_built, dtype: int64\n",
      "\n",
      "facility_type\n",
      "Multifamily_Uncategorized          39455\n",
      "Office_Uncategorized               12512\n",
      "other                               9481\n",
      "Education_Other_classroom           3860\n",
      "Lodging_Hotel                       2098\n",
      "2to4_Unit_Building                  1893\n",
      "Commercial_Other                    1744\n",
      "5plus_Unit_Building                 1273\n",
      "Warehouse_Nonrefrigerated           1255\n",
      "Retail_Uncategorized                1130\n",
      "Education_College_or_university     1056\n",
      "Name: facility_type, dtype: int64\n",
      "\n"
     ]
    }
   ],
   "source": [
    "df_cat=df[['Year_Factor','State_Factor','building_class',\n",
    "                  'year_built','facility_type']]\n",
    "for column in df_cat.columns:\n",
    "        print(column)\n",
    "        print(df_cat[column].value_counts())\n",
    "        print(\"\") "
   ]
  },
  {
   "cell_type": "code",
   "execution_count": 52,
   "metadata": {},
   "outputs": [],
   "source": [
    "# one-hot encoding\n",
    "from sklearn.preprocessing import OneHotEncoder\n",
    "cat_encoder = OneHotEncoder()\n",
    "df_cat_1hot = cat_encoder.fit_transform(df_cat)\n",
    "df_cat_1hot=pd.DataFrame(df_cat_1hot.toarray()).reset_index()"
   ]
  },
  {
   "cell_type": "code",
   "execution_count": 54,
   "metadata": {},
   "outputs": [
    {
     "name": "stdout",
     "output_type": "stream",
     "text": [
      "(75757, 58)\n",
      "(75757, 29)\n"
     ]
    }
   ],
   "source": [
    "print(df_num_tr.shape)\n",
    "print(df_cat_1hot.shape)"
   ]
  },
  {
   "cell_type": "code",
   "execution_count": 57,
   "metadata": {},
   "outputs": [
    {
     "data": {
      "text/html": [
       "<div>\n",
       "<style scoped>\n",
       "    .dataframe tbody tr th:only-of-type {\n",
       "        vertical-align: middle;\n",
       "    }\n",
       "\n",
       "    .dataframe tbody tr th {\n",
       "        vertical-align: top;\n",
       "    }\n",
       "\n",
       "    .dataframe thead th {\n",
       "        text-align: right;\n",
       "    }\n",
       "</style>\n",
       "<table border=\"1\" class=\"dataframe\">\n",
       "  <thead>\n",
       "    <tr style=\"text-align: right;\">\n",
       "      <th></th>\n",
       "      <th>index</th>\n",
       "      <th>floor_area</th>\n",
       "      <th>energy_star_rating</th>\n",
       "      <th>ELEVATION</th>\n",
       "      <th>january_min_temp</th>\n",
       "      <th>january_avg_temp</th>\n",
       "      <th>january_max_temp</th>\n",
       "      <th>february_min_temp</th>\n",
       "      <th>february_avg_temp</th>\n",
       "      <th>february_max_temp</th>\n",
       "      <th>...</th>\n",
       "      <th>18</th>\n",
       "      <th>19</th>\n",
       "      <th>20</th>\n",
       "      <th>21</th>\n",
       "      <th>22</th>\n",
       "      <th>23</th>\n",
       "      <th>24</th>\n",
       "      <th>25</th>\n",
       "      <th>26</th>\n",
       "      <th>27</th>\n",
       "    </tr>\n",
       "  </thead>\n",
       "  <tbody>\n",
       "    <tr>\n",
       "      <th>0</th>\n",
       "      <td>0</td>\n",
       "      <td>-0.424272</td>\n",
       "      <td>-2.244014</td>\n",
       "      <td>-0.611748</td>\n",
       "      <td>2.618884</td>\n",
       "      <td>2.314092</td>\n",
       "      <td>1.670279</td>\n",
       "      <td>1.850925</td>\n",
       "      <td>1.698778</td>\n",
       "      <td>1.724835</td>\n",
       "      <td>...</td>\n",
       "      <td>0.0</td>\n",
       "      <td>0.0</td>\n",
       "      <td>0.0</td>\n",
       "      <td>0.0</td>\n",
       "      <td>0.0</td>\n",
       "      <td>0.0</td>\n",
       "      <td>0.0</td>\n",
       "      <td>0.0</td>\n",
       "      <td>0.0</td>\n",
       "      <td>1.0</td>\n",
       "    </tr>\n",
       "    <tr>\n",
       "      <th>1</th>\n",
       "      <td>1</td>\n",
       "      <td>0.437535</td>\n",
       "      <td>-0.780906</td>\n",
       "      <td>-0.621640</td>\n",
       "      <td>2.618884</td>\n",
       "      <td>2.314092</td>\n",
       "      <td>1.670279</td>\n",
       "      <td>1.850925</td>\n",
       "      <td>1.698778</td>\n",
       "      <td>1.724835</td>\n",
       "      <td>...</td>\n",
       "      <td>0.0</td>\n",
       "      <td>0.0</td>\n",
       "      <td>0.0</td>\n",
       "      <td>0.0</td>\n",
       "      <td>0.0</td>\n",
       "      <td>0.0</td>\n",
       "      <td>0.0</td>\n",
       "      <td>0.0</td>\n",
       "      <td>0.0</td>\n",
       "      <td>1.0</td>\n",
       "    </tr>\n",
       "    <tr>\n",
       "      <th>2</th>\n",
       "      <td>2</td>\n",
       "      <td>0.461940</td>\n",
       "      <td>1.456789</td>\n",
       "      <td>-0.621640</td>\n",
       "      <td>2.618884</td>\n",
       "      <td>2.314092</td>\n",
       "      <td>1.670279</td>\n",
       "      <td>1.850925</td>\n",
       "      <td>1.698778</td>\n",
       "      <td>1.724835</td>\n",
       "      <td>...</td>\n",
       "      <td>0.0</td>\n",
       "      <td>0.0</td>\n",
       "      <td>0.0</td>\n",
       "      <td>0.0</td>\n",
       "      <td>0.0</td>\n",
       "      <td>0.0</td>\n",
       "      <td>0.0</td>\n",
       "      <td>0.0</td>\n",
       "      <td>0.0</td>\n",
       "      <td>1.0</td>\n",
       "    </tr>\n",
       "    <tr>\n",
       "      <th>3</th>\n",
       "      <td>3</td>\n",
       "      <td>-0.448240</td>\n",
       "      <td>-0.737873</td>\n",
       "      <td>-0.621640</td>\n",
       "      <td>2.618884</td>\n",
       "      <td>2.314092</td>\n",
       "      <td>1.670279</td>\n",
       "      <td>1.850925</td>\n",
       "      <td>1.698778</td>\n",
       "      <td>1.724835</td>\n",
       "      <td>...</td>\n",
       "      <td>0.0</td>\n",
       "      <td>0.0</td>\n",
       "      <td>0.0</td>\n",
       "      <td>1.0</td>\n",
       "      <td>0.0</td>\n",
       "      <td>0.0</td>\n",
       "      <td>0.0</td>\n",
       "      <td>0.0</td>\n",
       "      <td>0.0</td>\n",
       "      <td>0.0</td>\n",
       "    </tr>\n",
       "    <tr>\n",
       "      <th>4</th>\n",
       "      <td>4</td>\n",
       "      <td>-0.404999</td>\n",
       "      <td>1.585887</td>\n",
       "      <td>-0.611748</td>\n",
       "      <td>2.618884</td>\n",
       "      <td>2.314092</td>\n",
       "      <td>1.670279</td>\n",
       "      <td>1.850925</td>\n",
       "      <td>1.698778</td>\n",
       "      <td>1.724835</td>\n",
       "      <td>...</td>\n",
       "      <td>0.0</td>\n",
       "      <td>0.0</td>\n",
       "      <td>0.0</td>\n",
       "      <td>0.0</td>\n",
       "      <td>0.0</td>\n",
       "      <td>0.0</td>\n",
       "      <td>0.0</td>\n",
       "      <td>0.0</td>\n",
       "      <td>1.0</td>\n",
       "      <td>0.0</td>\n",
       "    </tr>\n",
       "  </tbody>\n",
       "</table>\n",
       "<p>5 rows × 86 columns</p>\n",
       "</div>"
      ],
      "text/plain": [
       "   index  floor_area  energy_star_rating  ELEVATION  january_min_temp  \\\n",
       "0      0   -0.424272           -2.244014  -0.611748          2.618884   \n",
       "1      1    0.437535           -0.780906  -0.621640          2.618884   \n",
       "2      2    0.461940            1.456789  -0.621640          2.618884   \n",
       "3      3   -0.448240           -0.737873  -0.621640          2.618884   \n",
       "4      4   -0.404999            1.585887  -0.611748          2.618884   \n",
       "\n",
       "   january_avg_temp  january_max_temp  february_min_temp  february_avg_temp  \\\n",
       "0          2.314092          1.670279           1.850925           1.698778   \n",
       "1          2.314092          1.670279           1.850925           1.698778   \n",
       "2          2.314092          1.670279           1.850925           1.698778   \n",
       "3          2.314092          1.670279           1.850925           1.698778   \n",
       "4          2.314092          1.670279           1.850925           1.698778   \n",
       "\n",
       "   february_max_temp  ...   18   19   20   21   22   23   24   25   26   27  \n",
       "0           1.724835  ...  0.0  0.0  0.0  0.0  0.0  0.0  0.0  0.0  0.0  1.0  \n",
       "1           1.724835  ...  0.0  0.0  0.0  0.0  0.0  0.0  0.0  0.0  0.0  1.0  \n",
       "2           1.724835  ...  0.0  0.0  0.0  0.0  0.0  0.0  0.0  0.0  0.0  1.0  \n",
       "3           1.724835  ...  0.0  0.0  0.0  1.0  0.0  0.0  0.0  0.0  0.0  0.0  \n",
       "4           1.724835  ...  0.0  0.0  0.0  0.0  0.0  0.0  0.0  0.0  1.0  0.0  \n",
       "\n",
       "[5 rows x 86 columns]"
      ]
     },
     "execution_count": 57,
     "metadata": {},
     "output_type": "execute_result"
    }
   ],
   "source": [
    "df_temp=df_num_tr.merge(df_cat_1hot)\n",
    "df_temp=df_temp.merge(df['site_eui'].reset_index())# need to reset index before merge\n",
    "df_cleaned.head()"
   ]
  },
  {
   "cell_type": "code",
   "execution_count": 58,
   "metadata": {},
   "outputs": [],
   "source": [
    "df.to_csv('df_cleaned.csv', index=None)"
   ]
  },
  {
   "cell_type": "code",
   "execution_count": null,
   "metadata": {},
   "outputs": [],
   "source": []
  }
 ],
 "metadata": {
  "kernelspec": {
   "display_name": "Python 3",
   "language": "python",
   "name": "python3"
  },
  "language_info": {
   "codemirror_mode": {
    "name": "ipython",
    "version": 3
   },
   "file_extension": ".py",
   "mimetype": "text/x-python",
   "name": "python",
   "nbconvert_exporter": "python",
   "pygments_lexer": "ipython3",
   "version": "3.8.5"
  }
 },
 "nbformat": 4,
 "nbformat_minor": 4
}
